{
 "cells": [
  {
   "cell_type": "code",
   "execution_count": 61,
   "metadata": {},
   "outputs": [],
   "source": [
    "# Assume geometric Brownian motion\n",
    "# mu = drift = expected return\n",
    "# sigma = standard deviation of return (the stochastic piece)\n",
    "# D = drawdown (10% = 0.10)\n",
    "%precision %.2f\n",
    "import pandas as pd\n",
    "import numpy as np\n",
    "pd.options.display.float_format = '{:,.2f}'.format"
   ]
  },
  {
   "cell_type": "code",
   "execution_count": 69,
   "metadata": {},
   "outputs": [
    {
     "data": {
      "text/plain": [
       "'English_United Kingdom.1252'"
      ]
     },
     "execution_count": 69,
     "metadata": {},
     "output_type": "execute_result"
    }
   ],
   "source": [
    "import locale\n",
    "locale.setlocale(locale.LC_ALL, '')  # Use '' for auto, or force e.g. to 'en_US.UTF-8'"
   ]
  },
  {
   "cell_type": "code",
   "execution_count": 41,
   "metadata": {},
   "outputs": [],
   "source": [
    "def prob_drawdown_pct(D, T, mu, sigma):\n",
    "    # Laplace transformation method to estimate max drawdown\n",
    "    # D = drawdown (10% = 0.10)\n",
    "    # T = period in years\n",
    "    # mu = drift = expected return (annualised)\n",
    "    # sigma = annualised standard deviation of return (the stochastic piece)\n",
    "    # define Γ (gamma) = 2mu / sigma^2\n",
    "    gamma = (2 * mu * T) / ((sigma * T) ** 2)\n",
    "    # probability p of a drawdown greater than D is approximately: p = [1 / (1 – D)]^(-Γ))\n",
    "    return (1 / (1 - D))**(-gamma)"
   ]
  },
  {
   "cell_type": "markdown",
   "metadata": {},
   "source": [
    "## Translate VaR to Annual PnL target"
   ]
  },
  {
   "cell_type": "code",
   "execution_count": 71,
   "metadata": {},
   "outputs": [
    {
     "name": "stdout",
     "output_type": "stream",
     "text": [
      "60,790.3\n"
     ]
    }
   ],
   "source": [
    "# VaR @ 95% is 1.645 s.d.\n",
    "# assume $100k VaR.... back out implied portfolio size:\n",
    "#\n",
    "# first step: get daily standard deviation from 95% VaR (which is 1.645 standard deviations)\n",
    "sd = 100000 / 1.645\n",
    "print(f'{sd:n}')"
   ]
  },
  {
   "cell_type": "code",
   "execution_count": 72,
   "metadata": {},
   "outputs": [
    {
     "name": "stdout",
     "output_type": "stream",
     "text": [
      "965,016\n"
     ]
    }
   ],
   "source": [
    "# Daily VaR / Standard Deviation, is proportional to annual standard deviation\n",
    "# proportion is sqrt(Time), so 252 trading days per year means\n",
    "# daily standard deviation is annual s.d. / sqrt(252)\n",
    "\n",
    "# take previously calculated s.d. and gross up for time\n",
    "\n",
    "sd_annual = sd * np.sqrt(252)\n",
    "print(f'{sd_annual:n}')"
   ]
  },
  {
   "cell_type": "code",
   "execution_count": 73,
   "metadata": {},
   "outputs": [
    {
     "name": "stdout",
     "output_type": "stream",
     "text": [
      "723,762\n"
     ]
    }
   ],
   "source": [
    "# Assume a realistic attainable Sharpe Ratio of 0.75\n",
    "# This is annualised return / annualised volatility of that return\n",
    "#\n",
    "# exptected annual return of a portfolio = sharpe ratio * annualised volatility\n",
    "\n",
    "expected_return = 0.75 * sd_annual\n",
    "print(f'{expected_return:n}')\n"
   ]
  },
  {
   "cell_type": "code",
   "execution_count": null,
   "metadata": {},
   "outputs": [],
   "source": [
    "# so with a VaR of $100k, a strategy with Sharpe = 0.75 can be expected to make $723k\n",
    "# hence daily VaR to PnL target is approximately 10x for 1:1 unit of return:risk \n",
    "# (this is because the annualising factor sqrt(252) is approx 16 and\n",
    "# a 95% daily VaR number uses 1.64 standard deviations\n",
    "# 15.87 / 1.645 = 9.65 = approx 10)\n",
    "\n",
    "# so for a 0.75 Sharpe Ratio portfolio, er expect 0.75 * 9.65 = 7.2x"
   ]
  },
  {
   "cell_type": "markdown",
   "metadata": {},
   "source": [
    "## Translate VaR into monthly drawdown"
   ]
  },
  {
   "cell_type": "code",
   "execution_count": 75,
   "metadata": {},
   "outputs": [
    {
     "name": "stdout",
     "output_type": "stream",
     "text": [
      "469,042\n"
     ]
    }
   ],
   "source": [
    "# Daily (1 day) --> Monthly (22 days)\n",
    "# proportional by sqrt(22)\n",
    "# If 1 day 95% VaR is $100k\n",
    "# then 1 month 95% VaR is\n",
    "var_95_daily = 100000\n",
    "var_95_monthly = var_95_daily * np.sqrt(22)\n",
    "print(f'{var_95_monthly:n}')"
   ]
  },
  {
   "cell_type": "code",
   "execution_count": 77,
   "metadata": {},
   "outputs": [
    {
     "name": "stdout",
     "output_type": "stream",
     "text": [
      "514,062\n"
     ]
    }
   ],
   "source": [
    "# This implies, 5% of the time we should expect a loss of more than 469k \n",
    "# First, let's set monthly 95% VaR to 400k\n",
    "var_95_monthly = 400000\n",
    "\n",
    "# If we want to increase this percentage, say we are comfortable with a 10% chance of this\n",
    "# Then, 90% cumulative normal distribution = 1.28 standard deviations from mean\n",
    "# compared to 95% = 1.645 s.d.'s\n",
    "# so, to hit -400k 10% of the time (instead of 5% of the time) we can scale by \n",
    "# number of s.d's\n",
    "\n",
    "var_95_monthly_scaled_to_90 = var_95_monthly * 1.645 / 1.28\n",
    "print(f'{var_95_monthly_scaled_to_90:n}')"
   ]
  },
  {
   "cell_type": "code",
   "execution_count": 79,
   "metadata": {},
   "outputs": [
    {
     "name": "stdout",
     "output_type": "stream",
     "text": [
      "109,598\n"
     ]
    }
   ],
   "source": [
    "# scale this number back to daily, to get the imputed daily 95% VaR we need\n",
    "# that equates to the 10% chance of a 400K monthly drawdown\n",
    "\n",
    "target_var = var_95_monthly_scaled_to_90 / np.sqrt(22)\n",
    "print(f'{target_var:n}')"
   ]
  },
  {
   "cell_type": "code",
   "execution_count": null,
   "metadata": {},
   "outputs": [],
   "source": []
  }
 ],
 "metadata": {
  "kernelspec": {
   "display_name": "Python 3",
   "language": "python",
   "name": "python3"
  },
  "language_info": {
   "codemirror_mode": {
    "name": "ipython",
    "version": 3
   },
   "file_extension": ".py",
   "mimetype": "text/x-python",
   "name": "python",
   "nbconvert_exporter": "python",
   "pygments_lexer": "ipython3",
   "version": "3.7.3"
  }
 },
 "nbformat": 4,
 "nbformat_minor": 2
}
